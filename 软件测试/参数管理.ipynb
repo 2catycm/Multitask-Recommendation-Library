{
 "cells": [
  {
   "cell_type": "code",
   "execution_count": 1,
   "metadata": {},
   "outputs": [
    {
     "data": {
      "text/plain": [
       "(PosixPath('/home/yecm/public/Multitask-Recommendation-Library/软件测试'),\n",
       " PosixPath('/home/yecm/public/Multitask-Recommendation-Library'))"
      ]
     },
     "execution_count": 1,
     "metadata": {},
     "output_type": "execute_result"
    }
   ],
   "source": [
    "from pathlib import Path\n",
    "import os, sys\n",
    "this_directory = Path(os.curdir).resolve().absolute()\n",
    "project_directory = this_directory.parent\n",
    "if str(project_directory) not in sys.path:\n",
    "    sys.path.append(str(project_directory))\n",
    "this_directory, project_directory"
   ]
  },
  {
   "cell_type": "code",
   "execution_count": 2,
   "metadata": {},
   "outputs": [
    {
     "data": {
      "text/plain": [
       "'Multitask-Recommendation'"
      ]
     },
     "execution_count": 2,
     "metadata": {},
     "output_type": "execute_result"
    }
   ],
   "source": [
    "import 实验.experimental.default as params\n",
    "params.project"
   ]
  },
  {
   "cell_type": "code",
   "execution_count": 4,
   "metadata": {},
   "outputs": [
    {
     "ename": "AttributeError",
     "evalue": "module '实验.default' has no attribute 'get'",
     "output_type": "error",
     "traceback": [
      "\u001b[0;31m---------------------------------------------------------------------------\u001b[0m",
      "\u001b[0;31mAttributeError\u001b[0m                            Traceback (most recent call last)",
      "Cell \u001b[0;32mIn[4], line 2\u001b[0m\n\u001b[1;32m      1\u001b[0m \u001b[39mdir\u001b[39m(params)\n\u001b[0;32m----> 2\u001b[0m params\u001b[39m.\u001b[39;49mget(\u001b[39m'\u001b[39m\u001b[39mproject\u001b[39m\u001b[39m'\u001b[39m, \u001b[39m0\u001b[39m)\n",
      "\u001b[0;31mAttributeError\u001b[0m: module '实验.default' has no attribute 'get'"
     ]
    }
   ],
   "source": [
    "dir(params)\n",
    "params.get('project', 0)"
   ]
  },
  {
   "cell_type": "code",
   "execution_count": 12,
   "metadata": {},
   "outputs": [
    {
     "data": {
      "text/plain": [
       "[]"
      ]
     },
     "execution_count": 12,
     "metadata": {},
     "output_type": "execute_result"
    }
   ],
   "source": [
    "config_keys = [k for k,v in locals().items() if not k.startswith('_') and isinstance(v, (int, float, bool, str))]\n",
    "# exec(open('configurator.py').read()) # overrides from command line or config file\n",
    "# config = {k: locals()[k] for k in config_keys} # will be useful for logging\n",
    "config_keys"
   ]
  },
  {
   "cell_type": "code",
   "execution_count": 8,
   "metadata": {},
   "outputs": [
    {
     "data": {
      "text/plain": [
       "{'__name__': '__main__',\n",
       " '__doc__': 'Automatically created module for IPython interactive environment',\n",
       " '__package__': None,\n",
       " '__loader__': None,\n",
       " '__spec__': None,\n",
       " '__builtin__': <module 'builtins' (built-in)>,\n",
       " '__builtins__': <module 'builtins' (built-in)>,\n",
       " '_ih': ['',\n",
       "  'from pathlib import Path\\nimport os, sys\\nthis_directory = Path(os.curdir).resolve().absolute()\\nproject_directory = this_directory.parent\\nif str(project_directory) not in sys.path:\\n    sys.path.append(str(project_directory))\\nthis_directory, project_directory',\n",
       "  'import 实验.default as params\\nparams.project',\n",
       "  'dir(params)',\n",
       "  \"dir(params)\\nparams.get('project', 0)\",\n",
       "  'for k, v in params.items():\\n    print(k, v)',\n",
       "  'globals()',\n",
       "  'params()',\n",
       "  'locals()'],\n",
       " '_oh': {1: (PosixPath('/home/yecm/public/Multitask-Recommendation-Library/软件测试'),\n",
       "   PosixPath('/home/yecm/public/Multitask-Recommendation-Library')),\n",
       "  2: 'Multitask-Recommendation',\n",
       "  3: ['__builtins__',\n",
       "   '__cached__',\n",
       "   '__doc__',\n",
       "   '__file__',\n",
       "   '__loader__',\n",
       "   '__name__',\n",
       "   '__package__',\n",
       "   '__spec__',\n",
       "   'project'],\n",
       "  6: {...}},\n",
       " '_dh': [PosixPath('/home/yecm/public/Multitask-Recommendation-Library/软件测试'),\n",
       "  PosixPath('/home/yecm/public/Multitask-Recommendation-Library/软件测试')],\n",
       " 'In': ['',\n",
       "  'from pathlib import Path\\nimport os, sys\\nthis_directory = Path(os.curdir).resolve().absolute()\\nproject_directory = this_directory.parent\\nif str(project_directory) not in sys.path:\\n    sys.path.append(str(project_directory))\\nthis_directory, project_directory',\n",
       "  'import 实验.default as params\\nparams.project',\n",
       "  'dir(params)',\n",
       "  \"dir(params)\\nparams.get('project', 0)\",\n",
       "  'for k, v in params.items():\\n    print(k, v)',\n",
       "  'globals()',\n",
       "  'params()',\n",
       "  'locals()'],\n",
       " 'Out': {1: (PosixPath('/home/yecm/public/Multitask-Recommendation-Library/软件测试'),\n",
       "   PosixPath('/home/yecm/public/Multitask-Recommendation-Library')),\n",
       "  2: 'Multitask-Recommendation',\n",
       "  3: ['__builtins__',\n",
       "   '__cached__',\n",
       "   '__doc__',\n",
       "   '__file__',\n",
       "   '__loader__',\n",
       "   '__name__',\n",
       "   '__package__',\n",
       "   '__spec__',\n",
       "   'project'],\n",
       "  6: {...}},\n",
       " 'get_ipython': <bound method InteractiveShell.get_ipython of <ipykernel.zmqshell.ZMQInteractiveShell object at 0x7f1136c10390>>,\n",
       " 'exit': <IPython.core.autocall.ZMQExitAutocall at 0x7f1136c20310>,\n",
       " 'quit': <IPython.core.autocall.ZMQExitAutocall at 0x7f1136c20310>,\n",
       " 'open': <function io.open(file, mode='r', buffering=-1, encoding=None, errors=None, newline=None, closefd=True, opener=None)>,\n",
       " '_': {...},\n",
       " '__': ['__builtins__',\n",
       "  '__cached__',\n",
       "  '__doc__',\n",
       "  '__file__',\n",
       "  '__loader__',\n",
       "  '__name__',\n",
       "  '__package__',\n",
       "  '__spec__',\n",
       "  'project'],\n",
       " '___': 'Multitask-Recommendation',\n",
       " '__vsc_ipynb_file__': '/home/yecm/public/Multitask-Recommendation-Library/软件测试/参数管理.ipynb',\n",
       " '_i': 'params()',\n",
       " '_ii': 'globals()',\n",
       " '_iii': 'for k, v in params.items():\\n    print(k, v)',\n",
       " '_i1': 'from pathlib import Path\\nimport os, sys\\nthis_directory = Path(os.curdir).resolve().absolute()\\nproject_directory = this_directory.parent\\nif str(project_directory) not in sys.path:\\n    sys.path.append(str(project_directory))\\nthis_directory, project_directory',\n",
       " 'Path': pathlib.Path,\n",
       " 'os': <module 'os' (frozen)>,\n",
       " 'sys': <module 'sys' (built-in)>,\n",
       " 'this_directory': PosixPath('/home/yecm/public/Multitask-Recommendation-Library/软件测试'),\n",
       " 'project_directory': PosixPath('/home/yecm/public/Multitask-Recommendation-Library'),\n",
       " '_1': (PosixPath('/home/yecm/public/Multitask-Recommendation-Library/软件测试'),\n",
       "  PosixPath('/home/yecm/public/Multitask-Recommendation-Library')),\n",
       " '_i2': 'import 实验.default as params\\nparams.project',\n",
       " 'params': <module '实验.default' from '/home/yecm/public/Multitask-Recommendation-Library/实验/default.py'>,\n",
       " '_2': 'Multitask-Recommendation',\n",
       " '_i3': 'dir(params)',\n",
       " '_3': ['__builtins__',\n",
       "  '__cached__',\n",
       "  '__doc__',\n",
       "  '__file__',\n",
       "  '__loader__',\n",
       "  '__name__',\n",
       "  '__package__',\n",
       "  '__spec__',\n",
       "  'project'],\n",
       " '_i4': \"dir(params)\\nparams.get('project', 0)\",\n",
       " '_i5': 'for k, v in params.items():\\n    print(k, v)',\n",
       " '_i6': 'globals()',\n",
       " '_6': {...},\n",
       " '_i7': 'params()',\n",
       " '_i8': 'locals()'}"
      ]
     },
     "execution_count": 8,
     "metadata": {},
     "output_type": "execute_result"
    }
   ],
   "source": [
    "locals()"
   ]
  },
  {
   "cell_type": "code",
   "execution_count": 23,
   "metadata": {},
   "outputs": [
    {
     "name": "stdout",
     "output_type": "stream",
     "text": [
      "['b', 'c', 'd', 'qasdf']\n"
     ]
    }
   ],
   "source": [
    "def test():\n",
    "    b = 12\n",
    "    c = str('1')\n",
    "    d = Exception('1')\n",
    "    exec('qasdf=1')\n",
    "    a = [k for k,v in locals().items() if not k.startswith('_')]\n",
    "    # a = [k for k,v in locals().items()]\n",
    "    print(a)\n",
    "test()"
   ]
  },
  {
   "cell_type": "code",
   "execution_count": 16,
   "metadata": {},
   "outputs": [
    {
     "data": {
      "text/plain": [
       "{'__name__': '__main__',\n",
       " '__doc__': 'Automatically created module for IPython interactive environment',\n",
       " '__package__': None,\n",
       " '__loader__': None,\n",
       " '__spec__': None,\n",
       " '__builtin__': <module 'builtins' (built-in)>,\n",
       " '__builtins__': <module 'builtins' (built-in)>,\n",
       " '_ih': ['',\n",
       "  'from pathlib import Path\\nimport os, sys\\nthis_directory = Path(os.curdir).resolve().absolute()\\nproject_directory = this_directory.parent\\nif str(project_directory) not in sys.path:\\n    sys.path.append(str(project_directory))\\nthis_directory, project_directory',\n",
       "  'import 实验.default as params\\nparams.project',\n",
       "  'dir(params)',\n",
       "  \"dir(params)\\nparams.get('project', 0)\",\n",
       "  'for k, v in params.items():\\n    print(k, v)',\n",
       "  'globals()',\n",
       "  'params()',\n",
       "  'locals()',\n",
       "  \"config_keys = [k for k,v in locals().items() if not k.startswith('_') and isinstance(v, (int, float, bool, str))]\\nexec(open('configurator.py').read()) # overrides from command line or config file\\nconfig = {k: globals()[k] for k in config_keys} # will be useful for logging\",\n",
       "  \"config_keys = [k for k,v in locals().items() if not k.startswith('_') and isinstance(v, (int, float, bool, str))]\\nexec(open('configurator.py').read()) # overrides from command line or config file\\nconfig = {k: locals()[k] for k in config_keys} # will be useful for logging\",\n",
       "  \"config_keys = [k for k,v in locals().items() if not k.startswith('_') and isinstance(v, (int, float, bool, str))]\\n# exec(open('configurator.py').read()) # overrides from command line or config file\\n# config = {k: locals()[k] for k in config_keys} # will be useful for logging\",\n",
       "  \"config_keys = [k for k,v in locals().items() if not k.startswith('_') and isinstance(v, (int, float, bool, str))]\\n# exec(open('configurator.py').read()) # overrides from command line or config file\\n# config = {k: locals()[k] for k in config_keys} # will be useful for logging\\nconfig_keys\",\n",
       "  \"def test():\\n    a = [k for k,v in locals().items() if not k.startswith('_')]\\n    print(a)\",\n",
       "  \"def test():\\n    b = 12\\n    c = str('1')\\n    d = Exception('1')\\n    a = [k for k,v in locals().items() if not k.startswith('_')]\\n    print(a)\",\n",
       "  \"def test():\\n    b = 12\\n    c = str('1')\\n    d = Exception('1')\\n    a = [k for k,v in locals().items() if not k.startswith('_')]\\n    print(a)\",\n",
       "  'locals()'],\n",
       " '_oh': {1: (PosixPath('/home/yecm/public/Multitask-Recommendation-Library/软件测试'),\n",
       "   PosixPath('/home/yecm/public/Multitask-Recommendation-Library')),\n",
       "  2: 'Multitask-Recommendation',\n",
       "  3: ['__builtins__',\n",
       "   '__cached__',\n",
       "   '__doc__',\n",
       "   '__file__',\n",
       "   '__loader__',\n",
       "   '__name__',\n",
       "   '__package__',\n",
       "   '__spec__',\n",
       "   'project'],\n",
       "  6: {...},\n",
       "  8: {...},\n",
       "  12: []},\n",
       " '_dh': [PosixPath('/home/yecm/public/Multitask-Recommendation-Library/软件测试'),\n",
       "  PosixPath('/home/yecm/public/Multitask-Recommendation-Library/软件测试')],\n",
       " 'In': ['',\n",
       "  'from pathlib import Path\\nimport os, sys\\nthis_directory = Path(os.curdir).resolve().absolute()\\nproject_directory = this_directory.parent\\nif str(project_directory) not in sys.path:\\n    sys.path.append(str(project_directory))\\nthis_directory, project_directory',\n",
       "  'import 实验.default as params\\nparams.project',\n",
       "  'dir(params)',\n",
       "  \"dir(params)\\nparams.get('project', 0)\",\n",
       "  'for k, v in params.items():\\n    print(k, v)',\n",
       "  'globals()',\n",
       "  'params()',\n",
       "  'locals()',\n",
       "  \"config_keys = [k for k,v in locals().items() if not k.startswith('_') and isinstance(v, (int, float, bool, str))]\\nexec(open('configurator.py').read()) # overrides from command line or config file\\nconfig = {k: globals()[k] for k in config_keys} # will be useful for logging\",\n",
       "  \"config_keys = [k for k,v in locals().items() if not k.startswith('_') and isinstance(v, (int, float, bool, str))]\\nexec(open('configurator.py').read()) # overrides from command line or config file\\nconfig = {k: locals()[k] for k in config_keys} # will be useful for logging\",\n",
       "  \"config_keys = [k for k,v in locals().items() if not k.startswith('_') and isinstance(v, (int, float, bool, str))]\\n# exec(open('configurator.py').read()) # overrides from command line or config file\\n# config = {k: locals()[k] for k in config_keys} # will be useful for logging\",\n",
       "  \"config_keys = [k for k,v in locals().items() if not k.startswith('_') and isinstance(v, (int, float, bool, str))]\\n# exec(open('configurator.py').read()) # overrides from command line or config file\\n# config = {k: locals()[k] for k in config_keys} # will be useful for logging\\nconfig_keys\",\n",
       "  \"def test():\\n    a = [k for k,v in locals().items() if not k.startswith('_')]\\n    print(a)\",\n",
       "  \"def test():\\n    b = 12\\n    c = str('1')\\n    d = Exception('1')\\n    a = [k for k,v in locals().items() if not k.startswith('_')]\\n    print(a)\",\n",
       "  \"def test():\\n    b = 12\\n    c = str('1')\\n    d = Exception('1')\\n    a = [k for k,v in locals().items() if not k.startswith('_')]\\n    print(a)\",\n",
       "  'locals()'],\n",
       " 'Out': {1: (PosixPath('/home/yecm/public/Multitask-Recommendation-Library/软件测试'),\n",
       "   PosixPath('/home/yecm/public/Multitask-Recommendation-Library')),\n",
       "  2: 'Multitask-Recommendation',\n",
       "  3: ['__builtins__',\n",
       "   '__cached__',\n",
       "   '__doc__',\n",
       "   '__file__',\n",
       "   '__loader__',\n",
       "   '__name__',\n",
       "   '__package__',\n",
       "   '__spec__',\n",
       "   'project'],\n",
       "  6: {...},\n",
       "  8: {...},\n",
       "  12: []},\n",
       " 'get_ipython': <bound method InteractiveShell.get_ipython of <ipykernel.zmqshell.ZMQInteractiveShell object at 0x7f1136c10390>>,\n",
       " 'exit': <IPython.core.autocall.ZMQExitAutocall at 0x7f1136c20310>,\n",
       " 'quit': <IPython.core.autocall.ZMQExitAutocall at 0x7f1136c20310>,\n",
       " 'open': <function io.open(file, mode='r', buffering=-1, encoding=None, errors=None, newline=None, closefd=True, opener=None)>,\n",
       " '_': [],\n",
       " '__': {...},\n",
       " '___': {...},\n",
       " '__vsc_ipynb_file__': '/home/yecm/public/Multitask-Recommendation-Library/软件测试/参数管理.ipynb',\n",
       " '_i': \"def test():\\n    b = 12\\n    c = str('1')\\n    d = Exception('1')\\n    a = [k for k,v in locals().items() if not k.startswith('_')]\\n    print(a)\",\n",
       " '_ii': \"def test():\\n    b = 12\\n    c = str('1')\\n    d = Exception('1')\\n    a = [k for k,v in locals().items() if not k.startswith('_')]\\n    print(a)\",\n",
       " '_iii': \"def test():\\n    a = [k for k,v in locals().items() if not k.startswith('_')]\\n    print(a)\",\n",
       " '_i1': 'from pathlib import Path\\nimport os, sys\\nthis_directory = Path(os.curdir).resolve().absolute()\\nproject_directory = this_directory.parent\\nif str(project_directory) not in sys.path:\\n    sys.path.append(str(project_directory))\\nthis_directory, project_directory',\n",
       " 'Path': pathlib.Path,\n",
       " 'os': <module 'os' (frozen)>,\n",
       " 'sys': <module 'sys' (built-in)>,\n",
       " 'this_directory': PosixPath('/home/yecm/public/Multitask-Recommendation-Library/软件测试'),\n",
       " 'project_directory': PosixPath('/home/yecm/public/Multitask-Recommendation-Library'),\n",
       " '_1': (PosixPath('/home/yecm/public/Multitask-Recommendation-Library/软件测试'),\n",
       "  PosixPath('/home/yecm/public/Multitask-Recommendation-Library')),\n",
       " '_i2': 'import 实验.default as params\\nparams.project',\n",
       " 'params': <module '实验.default' from '/home/yecm/public/Multitask-Recommendation-Library/实验/default.py'>,\n",
       " '_2': 'Multitask-Recommendation',\n",
       " '_i3': 'dir(params)',\n",
       " '_3': ['__builtins__',\n",
       "  '__cached__',\n",
       "  '__doc__',\n",
       "  '__file__',\n",
       "  '__loader__',\n",
       "  '__name__',\n",
       "  '__package__',\n",
       "  '__spec__',\n",
       "  'project'],\n",
       " '_i4': \"dir(params)\\nparams.get('project', 0)\",\n",
       " '_i5': 'for k, v in params.items():\\n    print(k, v)',\n",
       " '_i6': 'globals()',\n",
       " '_6': {...},\n",
       " '_i7': 'params()',\n",
       " '_i8': 'locals()',\n",
       " '_8': {...},\n",
       " '_i9': \"config_keys = [k for k,v in locals().items() if not k.startswith('_') and isinstance(v, (int, float, bool, str))]\\nexec(open('configurator.py').read()) # overrides from command line or config file\\nconfig = {k: globals()[k] for k in config_keys} # will be useful for logging\",\n",
       " 'config_keys': [],\n",
       " '_i10': \"config_keys = [k for k,v in locals().items() if not k.startswith('_') and isinstance(v, (int, float, bool, str))]\\nexec(open('configurator.py').read()) # overrides from command line or config file\\nconfig = {k: locals()[k] for k in config_keys} # will be useful for logging\",\n",
       " '_i11': \"config_keys = [k for k,v in locals().items() if not k.startswith('_') and isinstance(v, (int, float, bool, str))]\\n# exec(open('configurator.py').read()) # overrides from command line or config file\\n# config = {k: locals()[k] for k in config_keys} # will be useful for logging\",\n",
       " '_i12': \"config_keys = [k for k,v in locals().items() if not k.startswith('_') and isinstance(v, (int, float, bool, str))]\\n# exec(open('configurator.py').read()) # overrides from command line or config file\\n# config = {k: locals()[k] for k in config_keys} # will be useful for logging\\nconfig_keys\",\n",
       " '_12': [],\n",
       " '_i13': \"def test():\\n    a = [k for k,v in locals().items() if not k.startswith('_')]\\n    print(a)\",\n",
       " 'test': <function __main__.test()>,\n",
       " '_i14': \"def test():\\n    b = 12\\n    c = str('1')\\n    d = Exception('1')\\n    a = [k for k,v in locals().items() if not k.startswith('_')]\\n    print(a)\",\n",
       " '_i15': \"def test():\\n    b = 12\\n    c = str('1')\\n    d = Exception('1')\\n    a = [k for k,v in locals().items() if not k.startswith('_')]\\n    print(a)\",\n",
       " '_i16': 'locals()'}"
      ]
     },
     "execution_count": 16,
     "metadata": {},
     "output_type": "execute_result"
    }
   ],
   "source": [
    "locals()"
   ]
  }
 ],
 "metadata": {
  "kernelspec": {
   "display_name": "torch",
   "language": "python",
   "name": "python3"
  },
  "language_info": {
   "codemirror_mode": {
    "name": "ipython",
    "version": 3
   },
   "file_extension": ".py",
   "mimetype": "text/x-python",
   "name": "python",
   "nbconvert_exporter": "python",
   "pygments_lexer": "ipython3",
   "version": "3.11.0"
  },
  "orig_nbformat": 4
 },
 "nbformat": 4,
 "nbformat_minor": 2
}
